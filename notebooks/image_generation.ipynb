{
 "cells": [
  {
   "cell_type": "code",
   "execution_count": 1,
   "metadata": {},
   "outputs": [],
   "source": [
    "%load_ext autoreload\n",
    "%autoreload 2"
   ]
  },
  {
   "cell_type": "code",
   "execution_count": 2,
   "metadata": {},
   "outputs": [
    {
     "data": {
      "text/plain": [
       "True"
      ]
     },
     "execution_count": 2,
     "metadata": {},
     "output_type": "execute_result"
    }
   ],
   "source": [
    "from dotenv import load_dotenv\n",
    "\n",
    "load_dotenv()"
   ]
  },
  {
   "cell_type": "code",
   "execution_count": 3,
   "metadata": {},
   "outputs": [
    {
     "name": "stderr",
     "output_type": "stream",
     "text": [
      "/home/ilker/Documents/MyRepos/stable-diffusion-backend/.venv/lib/python3.11/site-packages/tqdm/auto.py:21: TqdmWarning: IProgress not found. Please update jupyter and ipywidgets. See https://ipywidgets.readthedocs.io/en/stable/user_install.html\n",
      "  from .autonotebook import tqdm as notebook_tqdm\n"
     ]
    }
   ],
   "source": [
    "from stable_diffusion_backend.ml.image_generation import text_to_img, initialize_model\n",
    "\n",
    "# scheduler = None\n",
    "scheduler = \"DPM++ SDE Karras\"\n",
    "# scheduler = \"DPM++ 2M Karras\"\n",
    "\n",
    "model = initialize_model(scheduler=scheduler)"
   ]
  },
  {
   "cell_type": "code",
   "execution_count": null,
   "metadata": {},
   "outputs": [],
   "source": [
    "prompt = \"ultra detailed 8k cg, japanese ramen, chopsticks, egg, steam,\"\n",
    "\n",
    "negative_prompt = None\n",
    "# negative_prompt = \"render, cartoon, cgi, render, illustration, painting, drawing\"\n",
    "# negative_prompt = \"cgi, 3d render, bad quality, worst quality, text, signature, watermark, extra limbs\"\n",
    "\n",
    "seed = None\n",
    "# seed = 2022514664\n",
    "\n",
    "clip_skip = None\n",
    "# clip_skip = 1\n",
    "# clip_skip = 2\n",
    "\n",
    "image = text_to_img(\n",
    "    model=model,\n",
    "    prompt=prompt,\n",
    "    negative_prompt=negative_prompt,\n",
    "    seed=seed,\n",
    "    num_inference_steps=7,\n",
    "    cfg_scale=3.0,\n",
    "    clip_skip=clip_skip,\n",
    ")\n",
    "\n",
    "image"
   ]
  },
  {
   "cell_type": "markdown",
   "metadata": {},
   "source": [
    "## Intermediate Images\n",
    "\n",
    "- [Diffusers Issue](https://github.com/huggingface/diffusers/issues/3579)\n"
   ]
  },
  {
   "cell_type": "markdown",
   "metadata": {},
   "source": []
  }
 ],
 "metadata": {
  "kernelspec": {
   "display_name": ".venv",
   "language": "python",
   "name": "python3"
  },
  "language_info": {
   "codemirror_mode": {
    "name": "ipython",
    "version": 3
   },
   "file_extension": ".py",
   "mimetype": "text/x-python",
   "name": "python",
   "nbconvert_exporter": "python",
   "pygments_lexer": "ipython3",
   "version": "3.11.7"
  }
 },
 "nbformat": 4,
 "nbformat_minor": 2
}
