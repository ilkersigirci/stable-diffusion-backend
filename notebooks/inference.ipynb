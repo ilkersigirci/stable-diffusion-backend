{
 "cells": [
  {
   "cell_type": "code",
   "execution_count": 1,
   "metadata": {},
   "outputs": [],
   "source": [
    "%load_ext autoreload\n",
    "%autoreload 2"
   ]
  },
  {
   "cell_type": "code",
   "execution_count": null,
   "metadata": {},
   "outputs": [],
   "source": [
    "from stable_diffusion_backend.ml.inference import generate_image"
   ]
  },
  {
   "cell_type": "code",
   "execution_count": null,
   "metadata": {},
   "outputs": [],
   "source": [
    "prompt = \"flower field, night sky, cinematic shot. Wallpaper. (Blue color schema), detailed background, a city in the distance\"\n",
    "\n",
    "# negative_prompt = None\n",
    "# negative_prompt = \"render, cartoon, cgi, render, illustration, painting, drawing\"\n",
    "negative_prompt = \"cgi, 3d render, bad quality, worst quality, text, signature, watermark, extra limbs\"\n",
    "\n",
    "seed = None\n",
    "# seed = 2084045068\n",
    "\n",
    "# clip_skip = None\n",
    "clip_skip = 1\n",
    "# clip_skip = 2\n",
    "\n",
    "image = generate_image(\n",
    "    prompt=prompt,\n",
    "    negative_prompt=negative_prompt,\n",
    "    seed=seed,\n",
    "    num_inference_steps=7,\n",
    "    cfg_scale=2.0,\n",
    "    clip_skip=clip_skip,\n",
    ")\n",
    "\n",
    "image"
   ]
  }
 ],
 "metadata": {
  "kernelspec": {
   "display_name": ".venv",
   "language": "python",
   "name": "python3"
  },
  "language_info": {
   "codemirror_mode": {
    "name": "ipython",
    "version": 3
   },
   "file_extension": ".py",
   "mimetype": "text/x-python",
   "name": "python",
   "nbconvert_exporter": "python",
   "pygments_lexer": "ipython3",
   "version": "3.11.6"
  }
 },
 "nbformat": 4,
 "nbformat_minor": 2
}
